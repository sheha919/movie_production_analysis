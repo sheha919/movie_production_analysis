{
 "cells": [
  {
   "cell_type": "markdown",
   "id": "c05604ff",
   "metadata": {},
   "source": [
    "# Source of Data\n",
    "The Movie Database (TMDB): https://www.themoviedb.org/\n",
    "\n",
    "This notebook is created to extract tmdb data fromm 2002 to 2022 "
   ]
  },
  {
   "cell_type": "markdown",
   "id": "d408dcec",
   "metadata": {},
   "source": [
    "# Import Libraries"
   ]
  },
  {
   "cell_type": "code",
   "execution_count": 1,
   "id": "df465f91",
   "metadata": {},
   "outputs": [],
   "source": [
    "import pandas as pd\n",
    "import os, time,json\n",
    "import tmdbsimple as tmdb \n",
    "from tqdm.notebook import tqdm_notebook\n",
    "import seaborn as sns\n",
    "import matplotlib.pyplot as plt"
   ]
  },
  {
   "cell_type": "markdown",
   "id": "f5b28ab2",
   "metadata": {},
   "source": [
    "# API Credentials"
   ]
  },
  {
   "cell_type": "code",
   "execution_count": 2,
   "id": "36bd1c14",
   "metadata": {},
   "outputs": [
    {
     "data": {
      "text/plain": [
       "dict_keys(['api-key'])"
      ]
     },
     "execution_count": 2,
     "metadata": {},
     "output_type": "execute_result"
    }
   ],
   "source": [
    "with open('C://Users//sheha//.secret/tmdb_api.json', 'r') as f:\n",
    "    login = json.load(f)\n",
    "    \n",
    "## Display the keys of the loaded dict\n",
    "login.keys()"
   ]
  },
  {
   "cell_type": "code",
   "execution_count": 3,
   "id": "0be2f8de",
   "metadata": {},
   "outputs": [],
   "source": [
    "tmdb.API_KEY =  login['api-key']"
   ]
  },
  {
   "cell_type": "markdown",
   "id": "1e23b245",
   "metadata": {},
   "source": [
    "# Designate a folder"
   ]
  },
  {
   "cell_type": "code",
   "execution_count": 4,
   "id": "c8560fcb",
   "metadata": {},
   "outputs": [
    {
     "data": {
      "text/plain": [
       "['.ipynb_checkpoints',\n",
       " 'final_tmdb_data_2000.csv.gz',\n",
       " 'final_tmdb_data_2001.csv.gz',\n",
       " 'final_tmdb_data_2002.csv.gz',\n",
       " 'final_tmdb_data_2003.csv.gz',\n",
       " 'final_tmdb_data_2004.csv.gz',\n",
       " 'final_tmdb_data_2005.csv.gz',\n",
       " 'final_tmdb_data_2006.csv.gz',\n",
       " 'final_tmdb_data_2007.csv.gz',\n",
       " 'final_tmdb_data_2008.csv.gz',\n",
       " 'final_tmdb_data_2009.csv.gz',\n",
       " 'final_tmdb_data_2010.csv.gz',\n",
       " 'final_tmdb_data_2011.csv.gz',\n",
       " 'final_tmdb_data_2012.csv.gz',\n",
       " 'final_tmdb_data_2013.csv.gz',\n",
       " 'final_tmdb_data_2014.csv.gz',\n",
       " 'final_tmdb_data_2015.csv.gz',\n",
       " 'final_tmdb_data_2016.csv.gz',\n",
       " 'final_tmdb_data_2017.csv.gz',\n",
       " 'final_tmdb_data_2018.csv.gz',\n",
       " 'final_tmdb_data_2019.csv.gz',\n",
       " 'final_tmdb_data_2020.csv.gz',\n",
       " 'final_tmdb_data_2021.csv.gz',\n",
       " 'final_tmdb_data_2022.csv.gz',\n",
       " 'final_tmdb_data_range(2002, 2023).csv.gz',\n",
       " 'title_akas_chunk_001.csv.gz',\n",
       " 'title_akas_chunk_002.csv.gz',\n",
       " 'title_akas_chunk_003.csv.gz',\n",
       " 'title_akas_chunk_004.csv.gz',\n",
       " 'title_akas_chunk_005.csv.gz',\n",
       " 'title_akas_chunk_006.csv.gz',\n",
       " 'title_akas_chunk_007.csv.gz',\n",
       " 'title_akas_chunk_008.csv.gz',\n",
       " 'title_akas_chunk_009.csv.gz',\n",
       " 'title_akas_chunk_010.csv.gz',\n",
       " 'title_akas_chunk_011.csv.gz',\n",
       " 'title_akas_chunk_012.csv.gz',\n",
       " 'title_akas_chunk_013.csv.gz',\n",
       " 'title_akas_chunk_014.csv.gz',\n",
       " 'title_akas_chunk_015.csv.gz',\n",
       " 'title_akas_chunk_016.csv.gz',\n",
       " 'title_akas_chunk_017.csv.gz',\n",
       " 'title_akas_chunk_018.csv.gz',\n",
       " 'title_akas_chunk_019.csv.gz',\n",
       " 'title_akas_chunk_020.csv.gz',\n",
       " 'title_akas_chunk_021.csv.gz',\n",
       " 'title_akas_chunk_022.csv.gz',\n",
       " 'title_akas_chunk_023.csv.gz',\n",
       " 'title_akas_chunk_024.csv.gz',\n",
       " 'title_akas_chunk_025.csv.gz',\n",
       " 'title_akas_chunk_026.csv.gz',\n",
       " 'title_akas_chunk_027.csv.gz',\n",
       " 'title_akas_chunk_028.csv.gz',\n",
       " 'title_akas_chunk_029.csv.gz',\n",
       " 'title_akas_chunk_030.csv.gz',\n",
       " 'title_akas_chunk_031.csv.gz',\n",
       " 'title_akas_chunk_032.csv.gz',\n",
       " 'title_akas_chunk_033.csv.gz',\n",
       " 'title_akas_chunk_034.csv.gz',\n",
       " 'title_akas_chunk_035.csv.gz',\n",
       " 'title_akas_chunk_036.csv.gz',\n",
       " 'title_akas_chunk_037.csv.gz',\n",
       " 'title_akas_chunk_038.csv.gz',\n",
       " 'title_akas_chunk_039.csv.gz',\n",
       " 'title_akas_chunk_040.csv.gz',\n",
       " 'title_akas_chunk_041.csv.gz',\n",
       " 'title_akas_chunk_042.csv.gz',\n",
       " 'title_akas_chunk_043.csv.gz',\n",
       " 'title_akas_chunk_044.csv.gz',\n",
       " 'title_akas_chunk_045.csv.gz',\n",
       " 'title_akas_chunk_046.csv.gz',\n",
       " 'title_akas_chunk_047.csv.gz',\n",
       " 'title_akas_chunk_048.csv.gz',\n",
       " 'title_akas_chunk_049.csv.gz',\n",
       " 'title_akas_chunk_050.csv.gz',\n",
       " 'title_akas_chunk_051.csv.gz',\n",
       " 'title_akas_chunk_052.csv.gz',\n",
       " 'title_akas_chunk_053.csv.gz',\n",
       " 'title_akas_chunk_054.csv.gz',\n",
       " 'title_akas_chunk_055.csv.gz',\n",
       " 'title_akas_chunk_056.csv.gz',\n",
       " 'title_akas_chunk_057.csv.gz',\n",
       " 'title_akas_chunk_058.csv.gz',\n",
       " 'title_akas_chunk_059.csv.gz',\n",
       " 'title_akas_chunk_060.csv.gz',\n",
       " 'title_akas_chunk_061.csv.gz',\n",
       " 'title_akas_chunk_062.csv.gz',\n",
       " 'title_akas_chunk_063.csv.gz',\n",
       " 'title_akas_chunk_064.csv.gz',\n",
       " 'title_akas_chunk_065.csv.gz',\n",
       " 'title_akas_chunk_066.csv.gz',\n",
       " 'title_akas_chunk_067.csv.gz',\n",
       " 'title_akas_chunk_068.csv.gz',\n",
       " 'title_akas_chunk_069.csv.gz',\n",
       " 'title_akas_chunk_070.csv.gz',\n",
       " 'title_akas_chunk_071.csv.gz',\n",
       " 'title_akas_chunk_072.csv.gz',\n",
       " 'title_akas_chunk_073.csv.gz',\n",
       " 'title_akas_chunk_074.csv.gz',\n",
       " 'title_akas_chunk_075.csv.gz',\n",
       " 'title_akas_chunk_076.csv.gz',\n",
       " 'title_akas_chunk_077.csv.gz',\n",
       " 'title_akas_chunk_078.csv.gz',\n",
       " 'title_akas_chunk_079.csv.gz',\n",
       " 'title_akas_chunk_080.csv.gz',\n",
       " 'title_akas_chunk_081.csv.gz',\n",
       " 'title_akas_chunk_082.csv.gz',\n",
       " 'title_akas_chunk_083.csv.gz',\n",
       " 'title_akas_chunk_084.csv.gz',\n",
       " 'title_akas_chunk_085.csv.gz',\n",
       " 'title_akas_chunk_086.csv.gz',\n",
       " 'title_akas_chunk_087.csv.gz',\n",
       " 'title_akas_chunk_088.csv.gz',\n",
       " 'title_akas_chunk_089.csv.gz',\n",
       " 'title_akas_chunk_090.csv.gz',\n",
       " 'title_akas_chunk_091.csv.gz',\n",
       " 'title_akas_chunk_092.csv.gz',\n",
       " 'title_akas_chunk_093.csv.gz',\n",
       " 'title_akas_chunk_094.csv.gz',\n",
       " 'title_akas_chunk_095.csv.gz',\n",
       " 'title_akas_chunk_096.csv.gz',\n",
       " 'title_akas_chunk_097.csv.gz',\n",
       " 'title_akas_chunk_098.csv.gz',\n",
       " 'title_akas_chunk_099.csv.gz',\n",
       " 'title_akas_chunk_100.csv.gz',\n",
       " 'title_akas_chunk_101.csv.gz',\n",
       " 'title_akas_chunk_102.csv.gz',\n",
       " 'title_akas_chunk_103.csv.gz',\n",
       " 'title_akas_chunk_104.csv.gz',\n",
       " 'title_akas_chunk_105.csv.gz',\n",
       " 'title_akas_chunk_106.csv.gz',\n",
       " 'title_akas_chunk_107.csv.gz',\n",
       " 'title_akas_chunk_108.csv.gz',\n",
       " 'title_akas_chunk_109.csv.gz',\n",
       " 'title_akas_chunk_110.csv.gz',\n",
       " 'title_akas_chunk_111.csv.gz',\n",
       " 'title_akas_chunk_112.csv.gz',\n",
       " 'title_akas_chunk_113.csv.gz',\n",
       " 'title_akas_chunk_114.csv.gz',\n",
       " 'title_akas_chunk_115.csv.gz',\n",
       " 'title_akas_chunk_116.csv.gz',\n",
       " 'title_akas_chunk_117.csv.gz',\n",
       " 'title_akas_chunk_118.csv.gz',\n",
       " 'title_akas_chunk_119.csv.gz',\n",
       " 'title_akas_chunk_120.csv.gz',\n",
       " 'title_akas_chunk_121.csv.gz',\n",
       " 'title_akas_chunk_122.csv.gz',\n",
       " 'title_akas_chunk_123.csv.gz',\n",
       " 'title_akas_chunk_124.csv.gz',\n",
       " 'title_akas_chunk_125.csv.gz',\n",
       " 'title_akas_chunk_126.csv.gz',\n",
       " 'title_akas_chunk_127.csv.gz',\n",
       " 'title_akas_chunk_128.csv.gz',\n",
       " 'title_akas_chunk_129.csv.gz',\n",
       " 'title_akas_chunk_130.csv.gz',\n",
       " 'title_akas_chunk_131.csv.gz',\n",
       " 'title_akas_chunk_132.csv.gz',\n",
       " 'title_akas_chunk_133.csv.gz',\n",
       " 'title_akas_chunk_134.csv.gz',\n",
       " 'title_akas_chunk_135.csv.gz',\n",
       " 'title_akas_chunk_136.csv.gz',\n",
       " 'title_akas_chunk_137.csv.gz',\n",
       " 'title_akas_chunk_138.csv.gz',\n",
       " 'title_akas_chunk_139.csv.gz',\n",
       " 'title_akas_chunk_140.csv.gz',\n",
       " 'title_akas_chunk_141.csv.gz',\n",
       " 'title_akas_chunk_142.csv.gz',\n",
       " 'title_akas_chunk_143.csv.gz',\n",
       " 'title_akas_chunk_144.csv.gz',\n",
       " 'title_akas_chunk_145.csv.gz',\n",
       " 'title_akas_chunk_146.csv.gz',\n",
       " 'title_akas_chunk_147.csv.gz',\n",
       " 'title_akas_chunk_148.csv.gz',\n",
       " 'title_akas_chunk_149.csv.gz',\n",
       " 'title_akas_chunk_150.csv.gz',\n",
       " 'title_akas_chunk_151.csv.gz',\n",
       " 'title_akas_chunk_152.csv.gz',\n",
       " 'title_akas_chunk_153.csv.gz',\n",
       " 'title_akas_chunk_154.csv.gz',\n",
       " 'title_akas_chunk_155.csv.gz',\n",
       " 'title_akas_chunk_156.csv.gz',\n",
       " 'title_akas_chunk_157.csv.gz',\n",
       " 'title_akas_chunk_158.csv.gz',\n",
       " 'title_akas_chunk_159.csv.gz',\n",
       " 'title_akas_chunk_160.csv.gz',\n",
       " 'title_akas_chunk_161.csv.gz',\n",
       " 'title_akas_chunk_162.csv.gz',\n",
       " 'title_akas_chunk_163.csv.gz',\n",
       " 'title_akas_chunk_164.csv.gz',\n",
       " 'title_akas_chunk_165.csv.gz',\n",
       " 'title_akas_chunk_166.csv.gz',\n",
       " 'title_akas_chunk_167.csv.gz',\n",
       " 'title_akas_chunk_168.csv.gz',\n",
       " 'title_akas_chunk_169.csv.gz',\n",
       " 'title_akas_chunk_170.csv.gz',\n",
       " 'title_akas_chunk_171.csv.gz',\n",
       " 'title_akas_chunk_172.csv.gz',\n",
       " 'title_akas_chunk_173.csv.gz',\n",
       " 'title_akas_chunk_174.csv.gz',\n",
       " 'title_akas_chunk_175.csv.gz',\n",
       " 'title_akas_chunk_176.csv.gz',\n",
       " 'title_akas_chunk_177.csv.gz',\n",
       " 'title_akas_chunk_178.csv.gz',\n",
       " 'title_akas_chunk_179.csv.gz',\n",
       " 'title_akas_chunk_180.csv.gz',\n",
       " 'title_akas_chunk_181.csv.gz',\n",
       " 'title_akas_chunk_182.csv.gz',\n",
       " 'title_akas_chunk_183.csv.gz',\n",
       " 'title_akas_chunk_184.csv.gz',\n",
       " 'title_akas_chunk_185.csv.gz',\n",
       " 'title_akas_chunk_186.csv.gz',\n",
       " 'title_akas_chunk_187.csv.gz',\n",
       " 'title_akas_chunk_188.csv.gz',\n",
       " 'title_akas_chunk_189.csv.gz',\n",
       " 'title_akas_chunk_190.csv.gz',\n",
       " 'title_akas_chunk_191.csv.gz',\n",
       " 'title_akas_chunk_192.csv.gz',\n",
       " 'title_akas_chunk_193.csv.gz',\n",
       " 'title_akas_chunk_194.csv.gz',\n",
       " 'title_akas_chunk_195.csv.gz',\n",
       " 'title_akas_chunk_196.csv.gz',\n",
       " 'title_akas_chunk_197.csv.gz',\n",
       " 'title_akas_chunk_198.csv.gz',\n",
       " 'title_akas_chunk_199.csv.gz',\n",
       " 'title_akas_chunk_200.csv.gz',\n",
       " 'title_akas_chunk_201.csv.gz',\n",
       " 'title_akas_chunk_202.csv.gz',\n",
       " 'title_akas_chunk_203.csv.gz',\n",
       " 'title_akas_chunk_204.csv.gz',\n",
       " 'title_akas_chunk_205.csv.gz',\n",
       " 'title_akas_chunk_206.csv.gz',\n",
       " 'title_akas_chunk_207.csv.gz',\n",
       " 'title_akas_chunk_208.csv.gz',\n",
       " 'title_akas_chunk_209.csv.gz',\n",
       " 'title_akas_chunk_210.csv.gz',\n",
       " 'title_akas_chunk_211.csv.gz',\n",
       " 'title_akas_chunk_212.csv.gz',\n",
       " 'title_akas_chunk_213.csv.gz',\n",
       " 'title_akas_chunk_214.csv.gz',\n",
       " 'title_akas_chunk_215.csv.gz',\n",
       " 'title_akas_chunk_216.csv.gz',\n",
       " 'title_akas_chunk_217.csv.gz',\n",
       " 'title_akas_chunk_218.csv.gz',\n",
       " 'title_akas_chunk_219.csv.gz',\n",
       " 'title_akas_chunk_220.csv.gz',\n",
       " 'title_akas_chunk_221.csv.gz',\n",
       " 'title_akas_chunk_222.csv.gz',\n",
       " 'title_akas_chunk_223.csv.gz',\n",
       " 'title_akas_chunk_224.csv.gz',\n",
       " 'title_akas_chunk_225.csv.gz',\n",
       " 'title_akas_chunk_226.csv.gz',\n",
       " 'title_akas_chunk_227.csv.gz',\n",
       " 'title_akas_chunk_228.csv.gz',\n",
       " 'title_akas_chunk_229.csv.gz',\n",
       " 'title_akas_chunk_230.csv.gz',\n",
       " 'title_akas_chunk_231.csv.gz',\n",
       " 'title_akas_chunk_232.csv.gz',\n",
       " 'title_akas_chunk_233.csv.gz',\n",
       " 'title_akas_chunk_234.csv.gz',\n",
       " 'title_akas_chunk_235.csv.gz',\n",
       " 'title_akas_chunk_236.csv.gz',\n",
       " 'title_akas_chunk_237.csv.gz',\n",
       " 'title_akas_chunk_238.csv.gz',\n",
       " 'title_akas_chunk_239.csv.gz',\n",
       " 'title_akas_chunk_240.csv.gz',\n",
       " 'title_akas_chunk_241.csv.gz',\n",
       " 'title_akas_chunk_242.csv.gz',\n",
       " 'title_akas_chunk_243.csv.gz',\n",
       " 'title_akas_chunk_244.csv.gz',\n",
       " 'title_akas_chunk_245.csv.gz',\n",
       " 'title_akas_chunk_246.csv.gz',\n",
       " 'title_akas_chunk_247.csv.gz',\n",
       " 'title_akas_chunk_248.csv.gz',\n",
       " 'title_akas_chunk_249.csv.gz',\n",
       " 'title_akas_chunk_250.csv.gz',\n",
       " 'title_akas_chunk_251.csv.gz',\n",
       " 'title_akas_chunk_252.csv.gz',\n",
       " 'title_akas_chunk_253.csv.gz',\n",
       " 'title_akas_chunk_254.csv.gz',\n",
       " 'title_akas_chunk_255.csv.gz',\n",
       " 'title_akas_chunk_256.csv.gz',\n",
       " 'title_akas_chunk_257.csv.gz',\n",
       " 'title_akas_chunk_258.csv.gz',\n",
       " 'title_akas_chunk_259.csv.gz',\n",
       " 'title_akas_chunk_260.csv.gz',\n",
       " 'title_akas_chunk_261.csv.gz',\n",
       " 'title_akas_chunk_262.csv.gz',\n",
       " 'title_akas_chunk_263.csv.gz',\n",
       " 'title_akas_chunk_264.csv.gz',\n",
       " 'title_akas_chunk_265.csv.gz',\n",
       " 'title_akas_chunk_266.csv.gz',\n",
       " 'title_akas_chunk_267.csv.gz',\n",
       " 'title_akas_chunk_268.csv.gz',\n",
       " 'title_akas_chunk_269.csv.gz',\n",
       " 'title_akas_chunk_270.csv.gz',\n",
       " 'title_akas_chunk_271.csv.gz',\n",
       " 'title_akas_chunk_272.csv.gz',\n",
       " 'title_akas_chunk_273.csv.gz',\n",
       " 'title_akas_chunk_274.csv.gz',\n",
       " 'title_akas_chunk_275.csv.gz',\n",
       " 'title_akas_chunk_276.csv.gz',\n",
       " 'title_akas_chunk_277.csv.gz',\n",
       " 'title_akas_chunk_278.csv.gz',\n",
       " 'title_akas_chunk_279.csv.gz',\n",
       " 'title_akas_chunk_280.csv.gz',\n",
       " 'title_akas_chunk_281.csv.gz',\n",
       " 'title_akas_chunk_282.csv.gz',\n",
       " 'title_akas_chunk_283.csv.gz',\n",
       " 'title_akas_chunk_284.csv.gz',\n",
       " 'title_akas_chunk_285.csv.gz',\n",
       " 'title_akas_chunk_286.csv.gz',\n",
       " 'title_akas_chunk_287.csv.gz',\n",
       " 'title_akas_chunk_288.csv.gz',\n",
       " 'title_akas_chunk_289.csv.gz',\n",
       " 'title_akas_chunk_290.csv.gz',\n",
       " 'title_akas_chunk_291.csv.gz',\n",
       " 'title_akas_chunk_292.csv.gz',\n",
       " 'title_akas_chunk_293.csv.gz',\n",
       " 'title_akas_chunk_294.csv.gz',\n",
       " 'title_akas_chunk_295.csv.gz',\n",
       " 'title_akas_chunk_296.csv.gz',\n",
       " 'title_akas_chunk_297.csv.gz',\n",
       " 'title_akas_chunk_298.csv.gz',\n",
       " 'title_akas_chunk_299.csv.gz',\n",
       " 'title_akas_chunk_300.csv.gz',\n",
       " 'title_akas_chunk_301.csv.gz',\n",
       " 'title_akas_chunk_302.csv.gz',\n",
       " 'title_akas_chunk_303.csv.gz',\n",
       " 'title_akas_chunk_304.csv.gz',\n",
       " 'title_akas_chunk_305.csv.gz',\n",
       " 'title_akas_chunk_306.csv.gz',\n",
       " 'title_akas_chunk_307.csv.gz',\n",
       " 'title_akas_chunk_308.csv.gz',\n",
       " 'title_akas_chunk_309.csv.gz',\n",
       " 'title_akas_chunk_310.csv.gz',\n",
       " 'title_akas_chunk_311.csv.gz',\n",
       " 'title_akas_chunk_312.csv.gz',\n",
       " 'title_akas_chunk_313.csv.gz',\n",
       " 'title_akas_chunk_314.csv.gz',\n",
       " 'title_akas_chunk_315.csv.gz',\n",
       " 'title_akas_chunk_316.csv.gz',\n",
       " 'title_akas_chunk_317.csv.gz',\n",
       " 'title_akas_chunk_318.csv.gz',\n",
       " 'title_akas_chunk_319.csv.gz',\n",
       " 'title_akas_chunk_320.csv.gz',\n",
       " 'title_akas_chunk_321.csv.gz',\n",
       " 'title_akas_chunk_322.csv.gz',\n",
       " 'title_akas_chunk_323.csv.gz',\n",
       " 'title_akas_chunk_324.csv.gz',\n",
       " 'title_akas_chunk_325.csv.gz',\n",
       " 'title_akas_chunk_326.csv.gz',\n",
       " 'title_akas_chunk_327.csv.gz',\n",
       " 'title_akas_chunk_328.csv.gz',\n",
       " 'title_akas_chunk_329.csv.gz',\n",
       " 'title_akas_chunk_330.csv.gz',\n",
       " 'title_akas_chunk_331.csv.gz',\n",
       " 'title_akas_chunk_332.csv.gz',\n",
       " 'title_akas_chunk_333.csv.gz',\n",
       " 'title_akas_chunk_334.csv.gz',\n",
       " 'title_akas_chunk_335.csv.gz',\n",
       " 'title_akas_chunk_336.csv.gz',\n",
       " 'title_akas_chunk_337.csv.gz',\n",
       " 'title_akas_chunk_338.csv.gz',\n",
       " 'title_akas_chunk_339.csv.gz',\n",
       " 'title_akas_chunk_340.csv.gz',\n",
       " 'title_akas_chunk_341.csv.gz',\n",
       " 'title_akas_chunk_342.csv.gz',\n",
       " 'title_akas_chunk_343.csv.gz',\n",
       " 'title_akas_chunk_344.csv.gz',\n",
       " 'title_akas_chunk_345.csv.gz',\n",
       " 'title_akas_combined.csv.gz',\n",
       " 'title_basics.csv.gz',\n",
       " 'title_ratings.csv.gz',\n",
       " 'tmdb_api_results_2000.json',\n",
       " 'tmdb_api_results_2001.json',\n",
       " 'tmdb_api_results_2002.json',\n",
       " 'tmdb_api_results_2003.json',\n",
       " 'tmdb_api_results_2004.json',\n",
       " 'tmdb_api_results_2005.json',\n",
       " 'tmdb_api_results_2006.json',\n",
       " 'tmdb_api_results_2007.json',\n",
       " 'tmdb_api_results_2008.json',\n",
       " 'tmdb_api_results_2009.json',\n",
       " 'tmdb_api_results_2010.json',\n",
       " 'tmdb_api_results_2011.json',\n",
       " 'tmdb_api_results_2012.json',\n",
       " 'tmdb_api_results_2013.json',\n",
       " 'tmdb_api_results_2014.json',\n",
       " 'tmdb_api_results_2015.json',\n",
       " 'tmdb_api_results_2016.json',\n",
       " 'tmdb_api_results_2017.json',\n",
       " 'tmdb_api_results_2018.json',\n",
       " 'tmdb_api_results_2019.json',\n",
       " 'tmdb_api_results_2020.json',\n",
       " 'tmdb_api_results_2021.json',\n",
       " 'tmdb_api_results_2022.json',\n",
       " 'tmdb_data_all.csv.gz',\n",
       " 'tmdb_results_combined.csv.gz']"
      ]
     },
     "execution_count": 4,
     "metadata": {},
     "output_type": "execute_result"
    }
   ],
   "source": [
    "FOLDER = \"Data/\"\n",
    "os.makedirs(FOLDER, exist_ok= True)\n",
    "os.listdir(FOLDER)"
   ]
  },
  {
   "cell_type": "markdown",
   "id": "7209f997",
   "metadata": {},
   "source": [
    "# Define Functions"
   ]
  },
  {
   "cell_type": "markdown",
   "id": "c7bbb55f",
   "metadata": {},
   "source": [
    "## Movie Rating Function"
   ]
  },
  {
   "cell_type": "code",
   "execution_count": 5,
   "id": "a4c0d347",
   "metadata": {},
   "outputs": [],
   "source": [
    "def get_movie_with_rating(movie_id):\n",
    "    \"\"\"Adapted  from source =  https://github.com/celiao/tmdbsimple\"\"\"\n",
    "    # Get the object for the current id\n",
    "    movie = tmdb.Movies(movie_id)\n",
    "    \n",
    "    # save the .info .releases dictionaries \n",
    "    info = movie.info()\n",
    "    \n",
    "    releases = movie.releases()\n",
    "    # loop through countries in releases\n",
    "    for c in releases['countries']:\n",
    "        if c['iso_3166_1'] == 'US':\n",
    "            ## save a \"certification\" key in the info dict with the certification\n",
    "            info['certification'] = c['certification']\n",
    "    return info"
   ]
  },
  {
   "cell_type": "markdown",
   "id": "c96a7c32",
   "metadata": {},
   "source": [
    "## Append records to json file"
   ]
  },
  {
   "cell_type": "code",
   "execution_count": 6,
   "id": "a7b332cd",
   "metadata": {},
   "outputs": [],
   "source": [
    "def write_json(new_data, filename): \n",
    "    \"\"\"Appends a list of records (new_data) to a json file (filename). \n",
    "    Adapted from: https://www.geeksforgeeks.org/append-to-json-file-using-python/\"\"\"  \n",
    "    \n",
    "    with open(filename, 'r+') as file:\n",
    "        #First we load existing data into a dict.\n",
    "        file_data = json.load(file)\n",
    "        ## use extend and or append\n",
    "        if (type(new_data)==list) & (type(file_data)==list):\n",
    "            file_data.extend(new_data)\n",
    "        else:\n",
    "            file_data.append(new_data)\n",
    "        # Sets file's current position at offset.\n",
    "        file.seek(0)\n",
    "        #convert back to json\n",
    "        json.dump(file_data, file)"
   ]
  },
  {
   "cell_type": "markdown",
   "id": "1a0001c4",
   "metadata": {},
   "source": [
    "# Load in the Title Basics data"
   ]
  },
  {
   "cell_type": "code",
   "execution_count": 7,
   "id": "001432e0",
   "metadata": {},
   "outputs": [],
   "source": [
    "basics = pd.read_csv(\"Data/title_basics.csv.gz\")"
   ]
  },
  {
   "cell_type": "markdown",
   "id": "68b6f50d",
   "metadata": {},
   "source": [
    "# Create Required Lists for the Loop"
   ]
  },
  {
   "cell_type": "code",
   "execution_count": 13,
   "id": "b36ca0bc",
   "metadata": {},
   "outputs": [
    {
     "data": {
      "text/plain": [
       "[2002,\n",
       " 2003,\n",
       " 2004,\n",
       " 2005,\n",
       " 2006,\n",
       " 2007,\n",
       " 2008,\n",
       " 2009,\n",
       " 2010,\n",
       " 2011,\n",
       " 2012,\n",
       " 2013,\n",
       " 2014,\n",
       " 2015,\n",
       " 2016,\n",
       " 2017,\n",
       " 2018,\n",
       " 2019,\n",
       " 2020,\n",
       " 2021,\n",
       " 2022]"
      ]
     },
     "execution_count": 13,
     "metadata": {},
     "output_type": "execute_result"
    }
   ],
   "source": [
    "# Define a list of the Years to Extract from the API\n",
    "YEARS_TO_GET = [*range(2002, 2023,1)]\n",
    "YEARS_TO_GET "
   ]
  },
  {
   "cell_type": "code",
   "execution_count": 9,
   "id": "1e5a74ff",
   "metadata": {},
   "outputs": [],
   "source": [
    "# define error list\n",
    "errors = [ ]"
   ]
  },
  {
   "cell_type": "markdown",
   "id": "7fabef24",
   "metadata": {},
   "source": [
    "# Testing the \"get_movie_with_rating\" function"
   ]
  },
  {
   "cell_type": "code",
   "execution_count": 10,
   "id": "8dc173c5",
   "metadata": {},
   "outputs": [
    {
     "data": {
      "text/html": [
       "<div>\n",
       "<style scoped>\n",
       "    .dataframe tbody tr th:only-of-type {\n",
       "        vertical-align: middle;\n",
       "    }\n",
       "\n",
       "    .dataframe tbody tr th {\n",
       "        vertical-align: top;\n",
       "    }\n",
       "\n",
       "    .dataframe thead th {\n",
       "        text-align: right;\n",
       "    }\n",
       "</style>\n",
       "<table border=\"1\" class=\"dataframe\">\n",
       "  <thead>\n",
       "    <tr style=\"text-align: right;\">\n",
       "      <th></th>\n",
       "      <th>adult</th>\n",
       "      <th>backdrop_path</th>\n",
       "      <th>belongs_to_collection</th>\n",
       "      <th>budget</th>\n",
       "      <th>genres</th>\n",
       "      <th>homepage</th>\n",
       "      <th>id</th>\n",
       "      <th>imdb_id</th>\n",
       "      <th>original_language</th>\n",
       "      <th>original_title</th>\n",
       "      <th>...</th>\n",
       "      <th>revenue</th>\n",
       "      <th>runtime</th>\n",
       "      <th>spoken_languages</th>\n",
       "      <th>status</th>\n",
       "      <th>tagline</th>\n",
       "      <th>title</th>\n",
       "      <th>video</th>\n",
       "      <th>vote_average</th>\n",
       "      <th>vote_count</th>\n",
       "      <th>certification</th>\n",
       "    </tr>\n",
       "  </thead>\n",
       "  <tbody>\n",
       "    <tr>\n",
       "      <th>0</th>\n",
       "      <td>False</td>\n",
       "      <td>/9BBTo63ANSmhC4e6r62OJFuK2GL.jpg</td>\n",
       "      <td>{'id': 86311, 'name': 'The Avengers Collection...</td>\n",
       "      <td>220000000</td>\n",
       "      <td>[{'id': 878, 'name': 'Science Fiction'}, {'id'...</td>\n",
       "      <td>https://www.marvel.com/movies/the-avengers</td>\n",
       "      <td>24428</td>\n",
       "      <td>tt0848228</td>\n",
       "      <td>en</td>\n",
       "      <td>The Avengers</td>\n",
       "      <td>...</td>\n",
       "      <td>1518815515</td>\n",
       "      <td>143</td>\n",
       "      <td>[{'english_name': 'English', 'iso_639_1': 'en'...</td>\n",
       "      <td>Released</td>\n",
       "      <td>Some assembly required.</td>\n",
       "      <td>The Avengers</td>\n",
       "      <td>False</td>\n",
       "      <td>7.708</td>\n",
       "      <td>28053</td>\n",
       "      <td>PG-13</td>\n",
       "    </tr>\n",
       "    <tr>\n",
       "      <th>1</th>\n",
       "      <td>False</td>\n",
       "      <td>/qom1SZSENdmHFNZBXbtJAU0WTlC.jpg</td>\n",
       "      <td>None</td>\n",
       "      <td>29000000</td>\n",
       "      <td>[{'id': 10749, 'name': 'Romance'}, {'id': 18, ...</td>\n",
       "      <td>http://www.newline.com/properties/notebookthe....</td>\n",
       "      <td>11036</td>\n",
       "      <td>tt0332280</td>\n",
       "      <td>en</td>\n",
       "      <td>The Notebook</td>\n",
       "      <td>...</td>\n",
       "      <td>115603229</td>\n",
       "      <td>123</td>\n",
       "      <td>[{'english_name': 'English', 'iso_639_1': 'en'...</td>\n",
       "      <td>Released</td>\n",
       "      <td>Behind every great love is a great story.</td>\n",
       "      <td>The Notebook</td>\n",
       "      <td>False</td>\n",
       "      <td>7.879</td>\n",
       "      <td>10065</td>\n",
       "      <td>PG-13</td>\n",
       "    </tr>\n",
       "  </tbody>\n",
       "</table>\n",
       "<p>2 rows × 26 columns</p>\n",
       "</div>"
      ],
      "text/plain": [
       "   adult                     backdrop_path  \\\n",
       "0  False  /9BBTo63ANSmhC4e6r62OJFuK2GL.jpg   \n",
       "1  False  /qom1SZSENdmHFNZBXbtJAU0WTlC.jpg   \n",
       "\n",
       "                               belongs_to_collection     budget  \\\n",
       "0  {'id': 86311, 'name': 'The Avengers Collection...  220000000   \n",
       "1                                               None   29000000   \n",
       "\n",
       "                                              genres  \\\n",
       "0  [{'id': 878, 'name': 'Science Fiction'}, {'id'...   \n",
       "1  [{'id': 10749, 'name': 'Romance'}, {'id': 18, ...   \n",
       "\n",
       "                                            homepage     id    imdb_id  \\\n",
       "0         https://www.marvel.com/movies/the-avengers  24428  tt0848228   \n",
       "1  http://www.newline.com/properties/notebookthe....  11036  tt0332280   \n",
       "\n",
       "  original_language original_title  ...     revenue  runtime  \\\n",
       "0                en   The Avengers  ...  1518815515      143   \n",
       "1                en   The Notebook  ...   115603229      123   \n",
       "\n",
       "                                    spoken_languages    status  \\\n",
       "0  [{'english_name': 'English', 'iso_639_1': 'en'...  Released   \n",
       "1  [{'english_name': 'English', 'iso_639_1': 'en'...  Released   \n",
       "\n",
       "                                     tagline         title  video  \\\n",
       "0                    Some assembly required.  The Avengers  False   \n",
       "1  Behind every great love is a great story.  The Notebook  False   \n",
       "\n",
       "   vote_average vote_count certification  \n",
       "0         7.708      28053         PG-13  \n",
       "1         7.879      10065         PG-13  \n",
       "\n",
       "[2 rows x 26 columns]"
      ]
     },
     "execution_count": 10,
     "metadata": {},
     "output_type": "execute_result"
    }
   ],
   "source": [
    "test_ids = [\"tt0848228\", \"tt0332280\"]\n",
    "results = []\n",
    "\n",
    "for movie_id in test_ids:\n",
    "    \n",
    "    try:\n",
    "        movie_info = get_movie_with_rating(movie_id)\n",
    "        results.append(movie_info)\n",
    "        \n",
    "    except Exception as e:\n",
    "        errors.append([movie_id, e])\n",
    "    \n",
    "    \n",
    "pd.DataFrame(results)"
   ]
  },
  {
   "cell_type": "code",
   "execution_count": 11,
   "id": "0d11f66c",
   "metadata": {},
   "outputs": [
    {
     "name": "stdout",
     "output_type": "stream",
     "text": [
      "- Number of errors: 0\n"
     ]
    },
    {
     "data": {
      "text/plain": [
       "[]"
      ]
     },
     "execution_count": 11,
     "metadata": {},
     "output_type": "execute_result"
    }
   ],
   "source": [
    "print(f\"- Number of errors: {len(errors)}\")\n",
    "errors"
   ]
  },
  {
   "cell_type": "markdown",
   "id": "19631f19",
   "metadata": {},
   "source": [
    "# Set up Progress Bar"
   ]
  },
  {
   "cell_type": "code",
   "execution_count": 12,
   "id": "5daa59a5",
   "metadata": {},
   "outputs": [
    {
     "data": {
      "application/vnd.jupyter.widget-view+json": {
       "model_id": "aa197bd8125d444fad0033467d77841b",
       "version_major": 2,
       "version_minor": 0
      },
      "text/plain": [
       "YEARS:   0%|          | 0/21 [00:00<?, ?it/s]"
      ]
     },
     "metadata": {},
     "output_type": "display_data"
    },
    {
     "data": {
      "application/vnd.jupyter.widget-view+json": {
       "model_id": "2ef6a5cdf072451eb3670ace8c7d1e54",
       "version_major": 2,
       "version_minor": 0
      },
      "text/plain": [
       "Movies from 2002:   0%|          | 0/1530 [00:00<?, ?it/s]"
      ]
     },
     "metadata": {},
     "output_type": "display_data"
    },
    {
     "data": {
      "application/vnd.jupyter.widget-view+json": {
       "model_id": "c8f6484bc5e7453ea8e7161d0fd7125e",
       "version_major": 2,
       "version_minor": 0
      },
      "text/plain": [
       "Movies from 2003:   0%|          | 0/1644 [00:00<?, ?it/s]"
      ]
     },
     "metadata": {},
     "output_type": "display_data"
    },
    {
     "data": {
      "application/vnd.jupyter.widget-view+json": {
       "model_id": "1262814b24ae4ccf8c7e8ea40618369d",
       "version_major": 2,
       "version_minor": 0
      },
      "text/plain": [
       "Movies from 2004:   0%|          | 0/1859 [00:00<?, ?it/s]"
      ]
     },
     "metadata": {},
     "output_type": "display_data"
    },
    {
     "data": {
      "application/vnd.jupyter.widget-view+json": {
       "model_id": "08ca8e2d87d147b48957d5c447ca06a3",
       "version_major": 2,
       "version_minor": 0
      },
      "text/plain": [
       "Movies from 2005:   0%|          | 0/2152 [00:00<?, ?it/s]"
      ]
     },
     "metadata": {},
     "output_type": "display_data"
    },
    {
     "data": {
      "application/vnd.jupyter.widget-view+json": {
       "model_id": "f1f729ab6b2d40428938f6f449a3239e",
       "version_major": 2,
       "version_minor": 0
      },
      "text/plain": [
       "Movies from 2006:   0%|          | 0/2367 [00:00<?, ?it/s]"
      ]
     },
     "metadata": {},
     "output_type": "display_data"
    },
    {
     "data": {
      "application/vnd.jupyter.widget-view+json": {
       "model_id": "96a1a18b19e547ffaae33970d244cda8",
       "version_major": 2,
       "version_minor": 0
      },
      "text/plain": [
       "Movies from 2007:   0%|          | 0/2518 [00:00<?, ?it/s]"
      ]
     },
     "metadata": {},
     "output_type": "display_data"
    },
    {
     "data": {
      "application/vnd.jupyter.widget-view+json": {
       "model_id": "8ecc71b4878443918e0bc52ee5a66338",
       "version_major": 2,
       "version_minor": 0
      },
      "text/plain": [
       "Movies from 2008:   0%|          | 0/2857 [00:00<?, ?it/s]"
      ]
     },
     "metadata": {},
     "output_type": "display_data"
    },
    {
     "data": {
      "application/vnd.jupyter.widget-view+json": {
       "model_id": "402c0e83ba5a44309fa057fc7d6cb86c",
       "version_major": 2,
       "version_minor": 0
      },
      "text/plain": [
       "Movies from 2009:   0%|          | 0/3491 [00:00<?, ?it/s]"
      ]
     },
     "metadata": {},
     "output_type": "display_data"
    },
    {
     "data": {
      "application/vnd.jupyter.widget-view+json": {
       "model_id": "b5b5bee2c82347309e3d4fc4cb638237",
       "version_major": 2,
       "version_minor": 0
      },
      "text/plain": [
       "Movies from 2010:   0%|          | 0/3802 [00:00<?, ?it/s]"
      ]
     },
     "metadata": {},
     "output_type": "display_data"
    },
    {
     "data": {
      "application/vnd.jupyter.widget-view+json": {
       "model_id": "3e90c959f2c84023b951bb1cb9c7f105",
       "version_major": 2,
       "version_minor": 0
      },
      "text/plain": [
       "Movies from 2011:   0%|          | 0/4174 [00:00<?, ?it/s]"
      ]
     },
     "metadata": {},
     "output_type": "display_data"
    },
    {
     "data": {
      "application/vnd.jupyter.widget-view+json": {
       "model_id": "068743609e574b78b8a5027ba6a9537f",
       "version_major": 2,
       "version_minor": 0
      },
      "text/plain": [
       "Movies from 2012:   0%|          | 0/4463 [00:00<?, ?it/s]"
      ]
     },
     "metadata": {},
     "output_type": "display_data"
    },
    {
     "data": {
      "application/vnd.jupyter.widget-view+json": {
       "model_id": "28b48be0cdaf4837802a9bf16016298b",
       "version_major": 2,
       "version_minor": 0
      },
      "text/plain": [
       "Movies from 2013:   0%|          | 0/4665 [00:00<?, ?it/s]"
      ]
     },
     "metadata": {},
     "output_type": "display_data"
    },
    {
     "data": {
      "application/vnd.jupyter.widget-view+json": {
       "model_id": "91420fb6a935400f95f75b962336d9c3",
       "version_major": 2,
       "version_minor": 0
      },
      "text/plain": [
       "Movies from 2014:   0%|          | 0/4844 [00:00<?, ?it/s]"
      ]
     },
     "metadata": {},
     "output_type": "display_data"
    },
    {
     "data": {
      "application/vnd.jupyter.widget-view+json": {
       "model_id": "60511082124e40f08298c43a345697bc",
       "version_major": 2,
       "version_minor": 0
      },
      "text/plain": [
       "Movies from 2015:   0%|          | 0/4973 [00:00<?, ?it/s]"
      ]
     },
     "metadata": {},
     "output_type": "display_data"
    },
    {
     "data": {
      "application/vnd.jupyter.widget-view+json": {
       "model_id": "e19bef8f44ef455fac3899cfc2a5355c",
       "version_major": 2,
       "version_minor": 0
      },
      "text/plain": [
       "Movies from 2016:   0%|          | 0/5179 [00:00<?, ?it/s]"
      ]
     },
     "metadata": {},
     "output_type": "display_data"
    },
    {
     "data": {
      "application/vnd.jupyter.widget-view+json": {
       "model_id": "103bd5a2cb4e4b6a84b7e7dae5e9fb1d",
       "version_major": 2,
       "version_minor": 0
      },
      "text/plain": [
       "Movies from 2017:   0%|          | 0/5556 [00:00<?, ?it/s]"
      ]
     },
     "metadata": {},
     "output_type": "display_data"
    },
    {
     "data": {
      "application/vnd.jupyter.widget-view+json": {
       "model_id": "0a9737f5f680438cb5f10f16b08d979e",
       "version_major": 2,
       "version_minor": 0
      },
      "text/plain": [
       "Movies from 2018:   0%|          | 0/5671 [00:00<?, ?it/s]"
      ]
     },
     "metadata": {},
     "output_type": "display_data"
    },
    {
     "data": {
      "application/vnd.jupyter.widget-view+json": {
       "model_id": "24b8812f5b8447adb373de02bc069054",
       "version_major": 2,
       "version_minor": 0
      },
      "text/plain": [
       "Movies from 2019:   0%|          | 0/5759 [00:00<?, ?it/s]"
      ]
     },
     "metadata": {},
     "output_type": "display_data"
    },
    {
     "data": {
      "application/vnd.jupyter.widget-view+json": {
       "model_id": "402c0481bf734ed69e2bd7fe741bab08",
       "version_major": 2,
       "version_minor": 0
      },
      "text/plain": [
       "Movies from 2020:   0%|          | 0/4906 [00:00<?, ?it/s]"
      ]
     },
     "metadata": {},
     "output_type": "display_data"
    },
    {
     "data": {
      "application/vnd.jupyter.widget-view+json": {
       "model_id": "d4ae5d281eba4acd94f245325b0ea5b0",
       "version_major": 2,
       "version_minor": 0
      },
      "text/plain": [
       "Movies from 2021:   0%|          | 0/4979 [00:00<?, ?it/s]"
      ]
     },
     "metadata": {},
     "output_type": "display_data"
    },
    {
     "data": {
      "application/vnd.jupyter.widget-view+json": {
       "model_id": "bcb139b363f24f94b855754102efb224",
       "version_major": 2,
       "version_minor": 0
      },
      "text/plain": [
       "Movies from 2022:   0%|          | 0/4159 [00:00<?, ?it/s]"
      ]
     },
     "metadata": {},
     "output_type": "display_data"
    }
   ],
   "source": [
    "# OUTER loop\n",
    "for YEAR in tqdm_notebook(YEARS_TO_GET, desc='YEARS', position=0):\n",
    "    #Defining the JSON file to store results for year\n",
    "    JSON_FILE = f'{FOLDER}tmdb_api_results_{YEAR}.json'\n",
    "    #check if file exists\n",
    "    file_exists = os.path.isfile(JSON_FILE)\n",
    "    # If it does not exist: create it\n",
    "    if file_exists == False:\n",
    "        # save an empty dict with just \"imdb_id\" to the new json file.\n",
    "        with open(JSON_FILE,'w') as f:\n",
    "            json.dump([{'imdb_id':0}],f)\n",
    "    \n",
    "    #Saving new year as the current df\n",
    "    df = basics.loc[ basics['startYear']==YEAR].copy()\n",
    "    \n",
    "    # saving movie ids to list\n",
    "    movie_ids = df['tconst'].copy()\n",
    "    \n",
    "    # Load existing data from json into a dataframe called \"previous_df\"\n",
    "    previous_df = pd.read_json(JSON_FILE)\n",
    "    \n",
    "    # filter out any ids that are already in the JSON_FILE\n",
    "    movie_ids_to_get = movie_ids[~movie_ids.isin(previous_df['imdb_id'])]\n",
    "\n",
    "# INNER Loop\n",
    "    for movie_id in tqdm_notebook(movie_ids_to_get,\n",
    "                                  desc=f'Movies from {YEAR}',\n",
    "                                  position=1,\n",
    "                                  leave=True):\n",
    "        try:\n",
    "            # Retrieve then data for the movie id\n",
    "            temp = get_movie_with_rating(movie_id)  \n",
    "            # Append/extend results to existing file using a pre-made function\n",
    "            write_json(temp,JSON_FILE)\n",
    "            # Short 20 ms sleep to prevent overwhelming server\n",
    "            time.sleep(0.02)\n",
    "            \n",
    "        except Exception as e:\n",
    "            errors.append([movie_id, e])\n",
    "\n",
    "    \n",
    "    final_year_df = pd.read_json(JSON_FILE)\n",
    "    final_year_df.to_csv(f\"{FOLDER}final_tmdb_data_{YEAR}.csv.gz\",\n",
    "                         compression=\"gzip\", index=False)\n",
    "\n"
   ]
  },
  {
   "cell_type": "code",
   "execution_count": 14,
   "id": "c116cc31",
   "metadata": {},
   "outputs": [
    {
     "data": {
      "text/html": [
       "<div>\n",
       "<style scoped>\n",
       "    .dataframe tbody tr th:only-of-type {\n",
       "        vertical-align: middle;\n",
       "    }\n",
       "\n",
       "    .dataframe tbody tr th {\n",
       "        vertical-align: top;\n",
       "    }\n",
       "\n",
       "    .dataframe thead th {\n",
       "        text-align: right;\n",
       "    }\n",
       "</style>\n",
       "<table border=\"1\" class=\"dataframe\">\n",
       "  <thead>\n",
       "    <tr style=\"text-align: right;\">\n",
       "      <th></th>\n",
       "      <th>imdb_id</th>\n",
       "      <th>adult</th>\n",
       "      <th>backdrop_path</th>\n",
       "      <th>belongs_to_collection</th>\n",
       "      <th>budget</th>\n",
       "      <th>genres</th>\n",
       "      <th>homepage</th>\n",
       "      <th>id</th>\n",
       "      <th>original_language</th>\n",
       "      <th>original_title</th>\n",
       "      <th>...</th>\n",
       "      <th>revenue</th>\n",
       "      <th>runtime</th>\n",
       "      <th>spoken_languages</th>\n",
       "      <th>status</th>\n",
       "      <th>tagline</th>\n",
       "      <th>title</th>\n",
       "      <th>video</th>\n",
       "      <th>vote_average</th>\n",
       "      <th>vote_count</th>\n",
       "      <th>certification</th>\n",
       "    </tr>\n",
       "  </thead>\n",
       "  <tbody>\n",
       "    <tr>\n",
       "      <th>1</th>\n",
       "      <td>tt0113026</td>\n",
       "      <td>0.0</td>\n",
       "      <td>/vMFs7nw6P0bIV1jDsQpxAieAVnH.jpg</td>\n",
       "      <td>NaN</td>\n",
       "      <td>10000000.0</td>\n",
       "      <td>[{'id': 35, 'name': 'Comedy'}, {'id': 10402, '...</td>\n",
       "      <td>NaN</td>\n",
       "      <td>62127.0</td>\n",
       "      <td>en</td>\n",
       "      <td>The Fantasticks</td>\n",
       "      <td>...</td>\n",
       "      <td>0.0</td>\n",
       "      <td>86.0</td>\n",
       "      <td>[{'english_name': 'English', 'iso_639_1': 'en'...</td>\n",
       "      <td>Released</td>\n",
       "      <td>Try to remember the first time magic happened</td>\n",
       "      <td>The Fantasticks</td>\n",
       "      <td>0.0</td>\n",
       "      <td>5.5</td>\n",
       "      <td>22.0</td>\n",
       "      <td>NaN</td>\n",
       "    </tr>\n",
       "    <tr>\n",
       "      <th>2</th>\n",
       "      <td>tt0113092</td>\n",
       "      <td>0.0</td>\n",
       "      <td>NaN</td>\n",
       "      <td>NaN</td>\n",
       "      <td>0.0</td>\n",
       "      <td>[{'id': 878, 'name': 'Science Fiction'}]</td>\n",
       "      <td>NaN</td>\n",
       "      <td>110977.0</td>\n",
       "      <td>en</td>\n",
       "      <td>For the Cause</td>\n",
       "      <td>...</td>\n",
       "      <td>0.0</td>\n",
       "      <td>100.0</td>\n",
       "      <td>[{'english_name': 'English', 'iso_639_1': 'en'...</td>\n",
       "      <td>Released</td>\n",
       "      <td>The ultimate showdown on a forbidden planet.</td>\n",
       "      <td>For the Cause</td>\n",
       "      <td>0.0</td>\n",
       "      <td>5.1</td>\n",
       "      <td>8.0</td>\n",
       "      <td>NaN</td>\n",
       "    </tr>\n",
       "  </tbody>\n",
       "</table>\n",
       "<p>2 rows × 26 columns</p>\n",
       "</div>"
      ],
      "text/plain": [
       "     imdb_id  adult                     backdrop_path belongs_to_collection  \\\n",
       "1  tt0113026    0.0  /vMFs7nw6P0bIV1jDsQpxAieAVnH.jpg                   NaN   \n",
       "2  tt0113092    0.0                               NaN                   NaN   \n",
       "\n",
       "       budget                                             genres homepage  \\\n",
       "1  10000000.0  [{'id': 35, 'name': 'Comedy'}, {'id': 10402, '...      NaN   \n",
       "2         0.0           [{'id': 878, 'name': 'Science Fiction'}]      NaN   \n",
       "\n",
       "         id original_language   original_title  ... revenue  runtime  \\\n",
       "1   62127.0                en  The Fantasticks  ...     0.0     86.0   \n",
       "2  110977.0                en    For the Cause  ...     0.0    100.0   \n",
       "\n",
       "                                    spoken_languages    status  \\\n",
       "1  [{'english_name': 'English', 'iso_639_1': 'en'...  Released   \n",
       "2  [{'english_name': 'English', 'iso_639_1': 'en'...  Released   \n",
       "\n",
       "                                         tagline            title  video  \\\n",
       "1  Try to remember the first time magic happened  The Fantasticks    0.0   \n",
       "2   The ultimate showdown on a forbidden planet.    For the Cause    0.0   \n",
       "\n",
       "   vote_average vote_count certification  \n",
       "1           5.5       22.0           NaN  \n",
       "2           5.1        8.0           NaN  \n",
       "\n",
       "[2 rows x 26 columns]"
      ]
     },
     "execution_count": 14,
     "metadata": {},
     "output_type": "execute_result"
    }
   ],
   "source": [
    "tmdb_data_all = pd.read_csv(\"Data/tmdb_results_combined.csv.gz\")\n",
    "tmdb_data_all = tmdb_data_all.loc[1:]\n",
    "tmdb_data_all.head(2)"
   ]
  },
  {
   "cell_type": "code",
   "execution_count": 15,
   "id": "071400b2",
   "metadata": {},
   "outputs": [
    {
     "data": {
      "text/plain": [
       "2508"
      ]
     },
     "execution_count": 15,
     "metadata": {},
     "output_type": "execute_result"
    }
   ],
   "source": [
    "len(tmdb_data_all)"
   ]
  },
  {
   "cell_type": "code",
   "execution_count": 16,
   "id": "4f4e7d72",
   "metadata": {},
   "outputs": [
    {
     "name": "stdout",
     "output_type": "stream",
     "text": [
      "2002 1248 3756\n",
      "2003 1287 5043\n",
      "2004 1440 6483\n",
      "2005 1567 8050\n",
      "2006 235 8285\n",
      "2007 1883 10168\n",
      "2008 2102 12270\n",
      "2009 2401 14671\n",
      "2010 583 15254\n",
      "2011 1884 17138\n",
      "2012 3248 20386\n",
      "2013 2664 23050\n",
      "2014 3692 26742\n",
      "2015 3744 30486\n",
      "2016 3996 34482\n",
      "2017 4368 38850\n",
      "2018 4078 42928\n",
      "2019 3863 46791\n",
      "2020 3872 50663\n",
      "2021 2519 53182\n",
      "2022 2973 56155\n"
     ]
    }
   ],
   "source": [
    "for i in YEARS_TO_GET:\n",
    "    df = pd.read_csv(f\"Data/final_tmdb_data_{i}.csv.gz\")\n",
    "    df = df.loc[1:]\n",
    "    tmdb_data_all = pd.concat([tmdb_data_all, df], ignore_index= True)\n",
    "    print(i, len(df) ,len(tmdb_data_all))"
   ]
  },
  {
   "cell_type": "code",
   "execution_count": 31,
   "id": "e80404f3",
   "metadata": {},
   "outputs": [
    {
     "data": {
      "text/html": [
       "<div>\n",
       "<style scoped>\n",
       "    .dataframe tbody tr th:only-of-type {\n",
       "        vertical-align: middle;\n",
       "    }\n",
       "\n",
       "    .dataframe tbody tr th {\n",
       "        vertical-align: top;\n",
       "    }\n",
       "\n",
       "    .dataframe thead th {\n",
       "        text-align: right;\n",
       "    }\n",
       "</style>\n",
       "<table border=\"1\" class=\"dataframe\">\n",
       "  <thead>\n",
       "    <tr style=\"text-align: right;\">\n",
       "      <th></th>\n",
       "      <th>imdb_id</th>\n",
       "      <th>adult</th>\n",
       "      <th>backdrop_path</th>\n",
       "      <th>belongs_to_collection</th>\n",
       "      <th>budget</th>\n",
       "      <th>genres</th>\n",
       "      <th>homepage</th>\n",
       "      <th>id</th>\n",
       "      <th>original_language</th>\n",
       "      <th>original_title</th>\n",
       "      <th>...</th>\n",
       "      <th>revenue</th>\n",
       "      <th>runtime</th>\n",
       "      <th>spoken_languages</th>\n",
       "      <th>status</th>\n",
       "      <th>tagline</th>\n",
       "      <th>title</th>\n",
       "      <th>video</th>\n",
       "      <th>vote_average</th>\n",
       "      <th>vote_count</th>\n",
       "      <th>certification</th>\n",
       "    </tr>\n",
       "  </thead>\n",
       "  <tbody>\n",
       "    <tr>\n",
       "      <th>0</th>\n",
       "      <td>tt0113026</td>\n",
       "      <td>0.0</td>\n",
       "      <td>/vMFs7nw6P0bIV1jDsQpxAieAVnH.jpg</td>\n",
       "      <td>NaN</td>\n",
       "      <td>10000000.0</td>\n",
       "      <td>[{'id': 35, 'name': 'Comedy'}, {'id': 10402, '...</td>\n",
       "      <td>NaN</td>\n",
       "      <td>62127.0</td>\n",
       "      <td>en</td>\n",
       "      <td>The Fantasticks</td>\n",
       "      <td>...</td>\n",
       "      <td>0.0</td>\n",
       "      <td>86.0</td>\n",
       "      <td>[{'english_name': 'English', 'iso_639_1': 'en'...</td>\n",
       "      <td>Released</td>\n",
       "      <td>Try to remember the first time magic happened</td>\n",
       "      <td>The Fantasticks</td>\n",
       "      <td>0.0</td>\n",
       "      <td>5.5</td>\n",
       "      <td>22.0</td>\n",
       "      <td>NaN</td>\n",
       "    </tr>\n",
       "    <tr>\n",
       "      <th>1</th>\n",
       "      <td>tt0113092</td>\n",
       "      <td>0.0</td>\n",
       "      <td>NaN</td>\n",
       "      <td>NaN</td>\n",
       "      <td>0.0</td>\n",
       "      <td>[{'id': 878, 'name': 'Science Fiction'}]</td>\n",
       "      <td>NaN</td>\n",
       "      <td>110977.0</td>\n",
       "      <td>en</td>\n",
       "      <td>For the Cause</td>\n",
       "      <td>...</td>\n",
       "      <td>0.0</td>\n",
       "      <td>100.0</td>\n",
       "      <td>[{'english_name': 'English', 'iso_639_1': 'en'...</td>\n",
       "      <td>Released</td>\n",
       "      <td>The ultimate showdown on a forbidden planet.</td>\n",
       "      <td>For the Cause</td>\n",
       "      <td>0.0</td>\n",
       "      <td>5.1</td>\n",
       "      <td>8.0</td>\n",
       "      <td>NaN</td>\n",
       "    </tr>\n",
       "  </tbody>\n",
       "</table>\n",
       "<p>2 rows × 26 columns</p>\n",
       "</div>"
      ],
      "text/plain": [
       "     imdb_id  adult                     backdrop_path belongs_to_collection  \\\n",
       "0  tt0113026    0.0  /vMFs7nw6P0bIV1jDsQpxAieAVnH.jpg                   NaN   \n",
       "1  tt0113092    0.0                               NaN                   NaN   \n",
       "\n",
       "       budget                                             genres homepage  \\\n",
       "0  10000000.0  [{'id': 35, 'name': 'Comedy'}, {'id': 10402, '...      NaN   \n",
       "1         0.0           [{'id': 878, 'name': 'Science Fiction'}]      NaN   \n",
       "\n",
       "         id original_language   original_title  ... revenue  runtime  \\\n",
       "0   62127.0                en  The Fantasticks  ...     0.0     86.0   \n",
       "1  110977.0                en    For the Cause  ...     0.0    100.0   \n",
       "\n",
       "                                    spoken_languages    status  \\\n",
       "0  [{'english_name': 'English', 'iso_639_1': 'en'...  Released   \n",
       "1  [{'english_name': 'English', 'iso_639_1': 'en'...  Released   \n",
       "\n",
       "                                         tagline            title  video  \\\n",
       "0  Try to remember the first time magic happened  The Fantasticks    0.0   \n",
       "1   The ultimate showdown on a forbidden planet.    For the Cause    0.0   \n",
       "\n",
       "   vote_average vote_count certification  \n",
       "0           5.5       22.0           NaN  \n",
       "1           5.1        8.0           NaN  \n",
       "\n",
       "[2 rows x 26 columns]"
      ]
     },
     "metadata": {},
     "output_type": "display_data"
    },
    {
     "data": {
      "text/html": [
       "<div>\n",
       "<style scoped>\n",
       "    .dataframe tbody tr th:only-of-type {\n",
       "        vertical-align: middle;\n",
       "    }\n",
       "\n",
       "    .dataframe tbody tr th {\n",
       "        vertical-align: top;\n",
       "    }\n",
       "\n",
       "    .dataframe thead th {\n",
       "        text-align: right;\n",
       "    }\n",
       "</style>\n",
       "<table border=\"1\" class=\"dataframe\">\n",
       "  <thead>\n",
       "    <tr style=\"text-align: right;\">\n",
       "      <th></th>\n",
       "      <th>imdb_id</th>\n",
       "      <th>adult</th>\n",
       "      <th>backdrop_path</th>\n",
       "      <th>belongs_to_collection</th>\n",
       "      <th>budget</th>\n",
       "      <th>genres</th>\n",
       "      <th>homepage</th>\n",
       "      <th>id</th>\n",
       "      <th>original_language</th>\n",
       "      <th>original_title</th>\n",
       "      <th>...</th>\n",
       "      <th>revenue</th>\n",
       "      <th>runtime</th>\n",
       "      <th>spoken_languages</th>\n",
       "      <th>status</th>\n",
       "      <th>tagline</th>\n",
       "      <th>title</th>\n",
       "      <th>video</th>\n",
       "      <th>vote_average</th>\n",
       "      <th>vote_count</th>\n",
       "      <th>certification</th>\n",
       "    </tr>\n",
       "  </thead>\n",
       "  <tbody>\n",
       "    <tr>\n",
       "      <th>56153</th>\n",
       "      <td>tt9893160</td>\n",
       "      <td>0.0</td>\n",
       "      <td>/jX5XGqJUTzvpta2RjcX6pMZqxk5.jpg</td>\n",
       "      <td>NaN</td>\n",
       "      <td>0.0</td>\n",
       "      <td>[{'id': 53, 'name': 'Thriller'}, {'id': 80, 'n...</td>\n",
       "      <td>NaN</td>\n",
       "      <td>606303.0</td>\n",
       "      <td>en</td>\n",
       "      <td>No Way Out</td>\n",
       "      <td>...</td>\n",
       "      <td>0.0</td>\n",
       "      <td>89.0</td>\n",
       "      <td>[{'english_name': 'English', 'iso_639_1': 'en'...</td>\n",
       "      <td>Released</td>\n",
       "      <td>Find what you love and let it kill you.</td>\n",
       "      <td>No Way Out</td>\n",
       "      <td>0.0</td>\n",
       "      <td>4.944</td>\n",
       "      <td>9.0</td>\n",
       "      <td>NaN</td>\n",
       "    </tr>\n",
       "    <tr>\n",
       "      <th>56154</th>\n",
       "      <td>tt9904648</td>\n",
       "      <td>0.0</td>\n",
       "      <td>/ibWj2ARVrAabIWDq5vSXoJRZfVV.jpg</td>\n",
       "      <td>NaN</td>\n",
       "      <td>0.0</td>\n",
       "      <td>[{'id': 35, 'name': 'Comedy'}, {'id': 10749, '...</td>\n",
       "      <td>https://contrastmovie.com/</td>\n",
       "      <td>933557.0</td>\n",
       "      <td>en</td>\n",
       "      <td>The Contrast</td>\n",
       "      <td>...</td>\n",
       "      <td>0.0</td>\n",
       "      <td>82.0</td>\n",
       "      <td>[{'english_name': 'English', 'iso_639_1': 'en'...</td>\n",
       "      <td>Released</td>\n",
       "      <td>Everybody loves... somebody else.</td>\n",
       "      <td>The Contrast</td>\n",
       "      <td>0.0</td>\n",
       "      <td>3.000</td>\n",
       "      <td>1.0</td>\n",
       "      <td>NaN</td>\n",
       "    </tr>\n",
       "  </tbody>\n",
       "</table>\n",
       "<p>2 rows × 26 columns</p>\n",
       "</div>"
      ],
      "text/plain": [
       "         imdb_id  adult                     backdrop_path  \\\n",
       "56153  tt9893160    0.0  /jX5XGqJUTzvpta2RjcX6pMZqxk5.jpg   \n",
       "56154  tt9904648    0.0  /ibWj2ARVrAabIWDq5vSXoJRZfVV.jpg   \n",
       "\n",
       "      belongs_to_collection  budget  \\\n",
       "56153                   NaN     0.0   \n",
       "56154                   NaN     0.0   \n",
       "\n",
       "                                                  genres  \\\n",
       "56153  [{'id': 53, 'name': 'Thriller'}, {'id': 80, 'n...   \n",
       "56154  [{'id': 35, 'name': 'Comedy'}, {'id': 10749, '...   \n",
       "\n",
       "                         homepage        id original_language original_title  \\\n",
       "56153                         NaN  606303.0                en     No Way Out   \n",
       "56154  https://contrastmovie.com/  933557.0                en   The Contrast   \n",
       "\n",
       "       ... revenue  runtime  \\\n",
       "56153  ...     0.0     89.0   \n",
       "56154  ...     0.0     82.0   \n",
       "\n",
       "                                        spoken_languages    status  \\\n",
       "56153  [{'english_name': 'English', 'iso_639_1': 'en'...  Released   \n",
       "56154  [{'english_name': 'English', 'iso_639_1': 'en'...  Released   \n",
       "\n",
       "                                       tagline         title  video  \\\n",
       "56153  Find what you love and let it kill you.    No Way Out    0.0   \n",
       "56154        Everybody loves... somebody else.  The Contrast    0.0   \n",
       "\n",
       "       vote_average vote_count certification  \n",
       "56153         4.944        9.0           NaN  \n",
       "56154         3.000        1.0           NaN  \n",
       "\n",
       "[2 rows x 26 columns]"
      ]
     },
     "metadata": {},
     "output_type": "display_data"
    }
   ],
   "source": [
    "display (tmdb_data_all.head(2), tmdb_data_all.tail(2))"
   ]
  },
  {
   "cell_type": "code",
   "execution_count": 32,
   "id": "0b02b4ac",
   "metadata": {},
   "outputs": [],
   "source": [
    "# Save a final merged .csv.gz of all of the tmdb api data \n",
    "tmdb_data_all.to_csv(\"Data/tmdb_data_all.csv.gz\", \n",
    "                                compression=\"gzip\", \n",
    "                                index=False)"
   ]
  },
  {
   "cell_type": "code",
   "execution_count": null,
   "id": "1478a382",
   "metadata": {},
   "outputs": [],
   "source": []
  }
 ],
 "metadata": {
  "kernelspec": {
   "display_name": "Python (dojo-env)",
   "language": "python",
   "name": "dojo-env"
  },
  "language_info": {
   "codemirror_mode": {
    "name": "ipython",
    "version": 3
   },
   "file_extension": ".py",
   "mimetype": "text/x-python",
   "name": "python",
   "nbconvert_exporter": "python",
   "pygments_lexer": "ipython3",
   "version": "3.9.15"
  },
  "toc": {
   "base_numbering": 1,
   "nav_menu": {},
   "number_sections": false,
   "sideBar": true,
   "skip_h1_title": false,
   "title_cell": "Table of Contents",
   "title_sidebar": "Contents",
   "toc_cell": false,
   "toc_position": {},
   "toc_section_display": true,
   "toc_window_display": false
  }
 },
 "nbformat": 4,
 "nbformat_minor": 5
}
